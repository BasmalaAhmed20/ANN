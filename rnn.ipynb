{
 "cells": [
  {
   "cell_type": "code",
   "execution_count": 1,
   "id": "190f195b",
   "metadata": {},
   "outputs": [],
   "source": [
    "import numpy as np\n",
    "\n",
    "chars = ['d', 'o', 'g', 's']\n",
    "char_to_ix = {ch: i for i, ch in enumerate(chars)}\n",
    "ix_to_char = {i: ch for ch, i in char_to_ix.items()}\n",
    "\n",
    "input_size = output_size = len(chars)  \n",
    "hidden_size = 4 \n",
    "\n",
    "np.random.seed(1)\n",
    "Wx = np.random.randn(hidden_size, input_size) * 0.01 \n",
    "Wh = np.random.randn(hidden_size, hidden_size) * 0.01  \n",
    "Wy = np.random.randn(output_size, hidden_size) * 0.01 \n",
    "bx = np.zeros((hidden_size, 1))\n",
    "by = np.zeros((output_size, 1))\n"
   ]
  },
  {
   "cell_type": "code",
   "execution_count": 2,
   "id": "bc071943",
   "metadata": {},
   "outputs": [],
   "source": [
    "def one_hot(char):\n",
    "    vec = np.zeros((input_size, 1))\n",
    "    vec[char_to_ix[char]] = 1\n",
    "    return vec\n",
    "\n",
    "def softmax(x):\n",
    "    e_x = np.exp(x - np.max(x))\n",
    "    return e_x / e_x.sum(axis=0)\n",
    "\n",
    "def cross_entropy(pred, target_index):\n",
    "    return -np.log(pred[target_index, 0] + 1e-9)  \n"
   ]
  },
  {
   "cell_type": "code",
   "execution_count": 3,
   "id": "ead1f720",
   "metadata": {},
   "outputs": [],
   "source": [
    "inputs = ['d', 'o', 'g']\n",
    "targets = ['o', 'g', 's']\n"
   ]
  },
  {
   "cell_type": "code",
   "execution_count": 4,
   "id": "f59d6c6d",
   "metadata": {},
   "outputs": [
    {
     "name": "stdout",
     "output_type": "stream",
     "text": [
      "Epoch 0, Loss: 4.1587\n",
      "Epoch 10, Loss: 3.7293\n",
      "Epoch 20, Loss: 3.5563\n",
      "Epoch 30, Loss: 3.3409\n",
      "Epoch 40, Loss: 2.5232\n",
      "Epoch 50, Loss: 1.1058\n",
      "Epoch 60, Loss: 0.4950\n",
      "Epoch 70, Loss: 0.2831\n",
      "Epoch 80, Loss: 0.1905\n",
      "Epoch 90, Loss: 0.1413\n",
      "Epoch 100, Loss: 0.1114\n",
      "Epoch 110, Loss: 0.0915\n",
      "Epoch 120, Loss: 0.0775\n",
      "Epoch 130, Loss: 0.0671\n",
      "Epoch 140, Loss: 0.0590\n",
      "Epoch 150, Loss: 0.0527\n",
      "Epoch 160, Loss: 0.0475\n",
      "Epoch 170, Loss: 0.0433\n",
      "Epoch 180, Loss: 0.0397\n",
      "Epoch 190, Loss: 0.0367\n"
     ]
    }
   ],
   "source": [
    "epochs = 200\n",
    "learning_rate = 0.1\n",
    "\n",
    "for epoch in range(epochs):\n",
    "    h_prev = np.zeros((hidden_size, 1))\n",
    "    loss = 0\n",
    "    xs, hs, ys, ps = {}, {}, {}, {}\n",
    "    hs[-1] = h_prev\n",
    "\n",
    "    #  FORWARD \n",
    "    for t in range(len(inputs)):\n",
    "        xs[t] = one_hot(inputs[t])\n",
    "        hs[t] = np.tanh(np.dot(Wx, xs[t]) + np.dot(Wh, hs[t - 1]) + bx)\n",
    "        ys[t] = np.dot(Wy, hs[t]) + by\n",
    "        ps[t] = softmax(ys[t])\n",
    "        loss += cross_entropy(ps[t], char_to_ix[targets[t]])\n",
    "\n",
    "    #  BACKWARD \n",
    "    dWx, dWh, dWy = np.zeros_like(Wx), np.zeros_like(Wh), np.zeros_like(Wy)\n",
    "    dbx, dby = np.zeros_like(bx), np.zeros_like(by)\n",
    "    dh_next = np.zeros_like(hs[0])\n",
    "\n",
    "    for t in reversed(range(len(inputs))):\n",
    "        dy = np.copy(ps[t])\n",
    "        dy[char_to_ix[targets[t]]] -= 1\n",
    "        dWy += np.dot(dy, hs[t].T)\n",
    "        dby += dy\n",
    "        dh = np.dot(Wy.T, dy) + dh_next\n",
    "        dh_raw = (1 - hs[t] ** 2) * dh\n",
    "        dbx += dh_raw\n",
    "        dWx += np.dot(dh_raw, xs[t].T)\n",
    "        dWh += np.dot(dh_raw, hs[t - 1].T)\n",
    "        dh_next = np.dot(Wh.T, dh_raw)\n",
    "\n",
    "    for dparam in [dWx, dWh, dWy, dbx, dby]:\n",
    "        np.clip(dparam, -5, 5, out=dparam)\n",
    "\n",
    "    Wx -= learning_rate * dWx\n",
    "    Wh -= learning_rate * dWh\n",
    "    Wy -= learning_rate * dWy\n",
    "    bx -= learning_rate * dbx\n",
    "    by -= learning_rate * dby\n",
    "\n",
    "    if epoch % 10 == 0:\n",
    "        print(f\"Epoch {epoch}, Loss: {loss:.4f}\")\n"
   ]
  },
  {
   "cell_type": "code",
   "execution_count": 5,
   "id": "0f53c6fa",
   "metadata": {},
   "outputs": [
    {
     "name": "stdout",
     "output_type": "stream",
     "text": [
      "\n",
      "Prediction starting with 'd':\n",
      "dogs\n"
     ]
    }
   ],
   "source": [
    "def predict(start_char, steps=3):\n",
    "    h = np.zeros((hidden_size, 1))\n",
    "    x = one_hot(start_char)\n",
    "    output = start_char\n",
    "\n",
    "    for _ in range(steps):\n",
    "        h = np.tanh(np.dot(Wx, x) + np.dot(Wh, h) + bx)\n",
    "        y = np.dot(Wy, h) + by\n",
    "        p = softmax(y)\n",
    "        idx = np.argmax(p)\n",
    "        char = ix_to_char[idx]\n",
    "        output += char\n",
    "        x = one_hot(char)\n",
    "\n",
    "    return output\n",
    "\n",
    "print(\"\\nPrediction starting with 'd':\")\n",
    "print(predict('d'))\n"
   ]
  },
  {
   "cell_type": "code",
   "execution_count": null,
   "id": "e195b376",
   "metadata": {},
   "outputs": [],
   "source": []
  }
 ],
 "metadata": {
  "kernelspec": {
   "display_name": "Python 3 (ipykernel)",
   "language": "python",
   "name": "python3"
  },
  "language_info": {
   "codemirror_mode": {
    "name": "ipython",
    "version": 3
   },
   "file_extension": ".py",
   "mimetype": "text/x-python",
   "name": "python",
   "nbconvert_exporter": "python",
   "pygments_lexer": "ipython3",
   "version": "3.11.5"
  }
 },
 "nbformat": 4,
 "nbformat_minor": 5
}
